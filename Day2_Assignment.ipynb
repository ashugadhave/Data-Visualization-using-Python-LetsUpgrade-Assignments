{
 "cells": [
  {
   "cell_type": "code",
   "execution_count": 1,
   "metadata": {},
   "outputs": [],
   "source": [
    "import numpy as np\n",
    "import matplotlib.pyplot as plt\n",
    "import pandas as pd\n",
    "import seaborn as sns\n",
    "%matplotlib inline\n",
    "from numpy.random import randn,randint,uniform,sample "
   ]
  },
  {
   "cell_type": "code",
   "execution_count": 2,
   "metadata": {},
   "outputs": [
    {
     "data": {
      "text/html": [
       "<div>\n",
       "<style scoped>\n",
       "    .dataframe tbody tr th:only-of-type {\n",
       "        vertical-align: middle;\n",
       "    }\n",
       "\n",
       "    .dataframe tbody tr th {\n",
       "        vertical-align: top;\n",
       "    }\n",
       "\n",
       "    .dataframe thead th {\n",
       "        text-align: right;\n",
       "    }\n",
       "</style>\n",
       "<table border=\"1\" class=\"dataframe\">\n",
       "  <thead>\n",
       "    <tr style=\"text-align: right;\">\n",
       "      <th></th>\n",
       "      <th>a</th>\n",
       "      <th>b</th>\n",
       "      <th>c</th>\n",
       "      <th>d</th>\n",
       "    </tr>\n",
       "  </thead>\n",
       "  <tbody>\n",
       "    <tr>\n",
       "      <th>0</th>\n",
       "      <td>0.510385</td>\n",
       "      <td>0.022857</td>\n",
       "      <td>1.154582</td>\n",
       "      <td>0.567356</td>\n",
       "    </tr>\n",
       "    <tr>\n",
       "      <th>1</th>\n",
       "      <td>-0.595566</td>\n",
       "      <td>1.883936</td>\n",
       "      <td>-0.445942</td>\n",
       "      <td>-0.922486</td>\n",
       "    </tr>\n",
       "    <tr>\n",
       "      <th>2</th>\n",
       "      <td>-0.153372</td>\n",
       "      <td>-0.115229</td>\n",
       "      <td>-1.166760</td>\n",
       "      <td>-0.473137</td>\n",
       "    </tr>\n",
       "    <tr>\n",
       "      <th>3</th>\n",
       "      <td>1.569190</td>\n",
       "      <td>-1.400636</td>\n",
       "      <td>-0.161963</td>\n",
       "      <td>0.707773</td>\n",
       "    </tr>\n",
       "    <tr>\n",
       "      <th>4</th>\n",
       "      <td>0.346743</td>\n",
       "      <td>1.188596</td>\n",
       "      <td>-1.674095</td>\n",
       "      <td>-0.698939</td>\n",
       "    </tr>\n",
       "    <tr>\n",
       "      <th>5</th>\n",
       "      <td>-0.353749</td>\n",
       "      <td>-1.783965</td>\n",
       "      <td>1.333462</td>\n",
       "      <td>-1.461089</td>\n",
       "    </tr>\n",
       "    <tr>\n",
       "      <th>6</th>\n",
       "      <td>-0.168715</td>\n",
       "      <td>0.578306</td>\n",
       "      <td>1.430361</td>\n",
       "      <td>-0.573596</td>\n",
       "    </tr>\n",
       "    <tr>\n",
       "      <th>7</th>\n",
       "      <td>0.178531</td>\n",
       "      <td>-0.752188</td>\n",
       "      <td>-0.312638</td>\n",
       "      <td>1.538126</td>\n",
       "    </tr>\n",
       "    <tr>\n",
       "      <th>8</th>\n",
       "      <td>-0.996603</td>\n",
       "      <td>0.551001</td>\n",
       "      <td>-0.602542</td>\n",
       "      <td>-1.181152</td>\n",
       "    </tr>\n",
       "    <tr>\n",
       "      <th>9</th>\n",
       "      <td>0.598731</td>\n",
       "      <td>-1.048612</td>\n",
       "      <td>-0.104643</td>\n",
       "      <td>-2.806248</td>\n",
       "    </tr>\n",
       "  </tbody>\n",
       "</table>\n",
       "</div>"
      ],
      "text/plain": [
       "          a         b         c         d\n",
       "0  0.510385  0.022857  1.154582  0.567356\n",
       "1 -0.595566  1.883936 -0.445942 -0.922486\n",
       "2 -0.153372 -0.115229 -1.166760 -0.473137\n",
       "3  1.569190 -1.400636 -0.161963  0.707773\n",
       "4  0.346743  1.188596 -1.674095 -0.698939\n",
       "5 -0.353749 -1.783965  1.333462 -1.461089\n",
       "6 -0.168715  0.578306  1.430361 -0.573596\n",
       "7  0.178531 -0.752188 -0.312638  1.538126\n",
       "8 -0.996603  0.551001 -0.602542 -1.181152\n",
       "9  0.598731 -1.048612 -0.104643 -2.806248"
      ]
     },
     "execution_count": 2,
     "metadata": {},
     "output_type": "execute_result"
    }
   ],
   "source": [
    "df=pd.DataFrame(randn(10,4),columns=['a','b','c','d'])\n",
    "df"
   ]
  },
  {
   "cell_type": "code",
   "execution_count": 16,
   "metadata": {},
   "outputs": [
    {
     "data": {
      "image/png": "[encoded data removed]",
      "text/plain": [
       "<Figure size 432x288 with 1 Axes>"
      ]
     },
     "metadata": {
      "needs_background": "light"
     },
     "output_type": "display_data"
    }
   ],
   "source": [
    "df.plot.bar()\n",
    "plt.title(\"Bar Graph\")\n",
    "plt.show()"
   ]
  },
  {
   "cell_type": "code",
   "execution_count": null,
   "metadata": {},
   "outputs": [],
   "source": []
  },
  {
   "cell_type": "code",
   "execution_count": null,
   "metadata": {},
   "outputs": [],
   "source": []
  }
 ],
 "metadata": {
  "kernelspec": {
   "display_name": "Python 3",
   "language": "python",
   "name": "python3"
  },
  "language_info": {
   "codemirror_mode": {
    "name": "ipython",
    "version": 3
   },
   "file_extension": ".py",
   "mimetype": "text/x-python",
   "name": "python",
   "nbconvert_exporter": "python",
   "pygments_lexer": "ipython3",
   "version": "3.7.3"
  }
 },
 "nbformat": 4,
 "nbformat_minor": 2
}
